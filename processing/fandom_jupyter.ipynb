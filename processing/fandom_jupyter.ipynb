{
 "cells": [
  {
   "cell_type": "code",
   "execution_count": 1,
   "metadata": {},
   "outputs": [],
   "source": [
    "from bs4 import BeautifulSoup\n",
    "import mwparserfromhell\n",
    "import re"
   ]
  },
  {
   "cell_type": "code",
   "execution_count": 111,
   "metadata": {},
   "outputs": [],
   "source": [
    "\n",
    "# Load the XML file\n",
    "with open('valorant_pages.xml', 'r', encoding='utf-8') as file:\n",
    "    content = file.read()\n",
    "\n",
    "# Parse the XML content\n",
    "soup = BeautifulSoup(content, 'lxml')\n",
    "\n",
    "# Extract specific information\n",
    "pages = soup.find_all('page')  # Adjust the tag name as needed\n"
   ]
  },
  {
   "cell_type": "code",
   "execution_count": 138,
   "metadata": {},
   "outputs": [],
   "source": [
    "valorant_agents = [\n",
    "    \"Phoenix\",\n",
    "    \"Neon\",\n",
    "    \"Reyna\",\n",
    "    \"Omen\",\n",
    "    \"Brimstone\",\n",
    "    \"BREACH\",\n",
    "    \"Jett\",\n",
    "    \"Yoru\",\n",
    "    \"Sage\",\n",
    "    \"Cypher\",\n",
    "    \"Killjoy\",\n",
    "    \"Astra\",\n",
    "    \"Harbor\",\n",
    "    \"Sova\",\n",
    "    \"Fade\",\n",
    "    \"Chamber\",\n",
    "    \"Raze\",\n",
    "    \"Skye\",\n",
    "    \"KAY/O\",\n",
    "    \"Viper\"\n",
    "]\n",
    "url_pages = [\n",
    "    \"Agents/Controllers\",\n",
    "    \"Agents/Duelists\",\n",
    "    \"Agents/Initiators\",\n",
    "    \"Agents/Sentinels\",\n",
    "    \"Maps\",\n",
    "    \"VALORANT\",\n",
    "    \"Weapons\",\n",
    "    \"Game Modes\",\n",
    "    \"Competitive\",\n",
    "    \"Abilities\",\n",
    "    \"Terminology\"\n",
    "]+valorant_agents\n"
   ]
  },
  {
   "cell_type": "code",
   "execution_count": 159,
   "metadata": {},
   "outputs": [],
   "source": [
    "def clean_wikitext(wikitext: str)->str:\n",
    "\n",
    "    parsed_wikitext = mwparserfromhell.parse(f\"{wikitext}\")\n",
    "\n",
    "    text_data = parsed_wikitext.strip_code().strip()\n",
    "    text_data = re.sub(r'<.*?>|<.*|\\d+?px', '', text_data)  \n",
    "    text_data = re.sub(r'/[a-zA-Z]+\\.(png|jpg)', '', text_data)  \n",
    "    text_data = re.sub(r'\\s+', ' ', text_data)   \n",
    "    text_data = text_data.strip()                \n",
    "    \n",
    "    return str(text_data)"
   ]
  },
  {
   "cell_type": "code",
   "execution_count": 160,
   "metadata": {},
   "outputs": [],
   "source": [
    "data =''\n",
    "for page in pages:\n",
    "    title = page.find('title').text\n",
    "    if title in url_pages and (wikitext:=page.find('text')):\n",
    "        data+=clean_wikitext(wikitext)\n"
   ]
  },
  {
   "cell_type": "code",
   "execution_count": 163,
   "metadata": {},
   "outputs": [],
   "source": [
    "with open('valorant_pages.txt','w',encoding='utf-8') as f:\n",
    "    f.write(data)"
   ]
  },
  {
   "cell_type": "markdown",
   "metadata": {},
   "source": [
    "VCT Info"
   ]
  },
  {
   "cell_type": "code",
   "execution_count": 1,
   "metadata": {},
   "outputs": [],
   "source": [
    "import requests\n",
    "from bs4 import BeautifulSoup\n",
    "import time"
   ]
  },
  {
   "cell_type": "code",
   "execution_count": 2,
   "metadata": {},
   "outputs": [],
   "source": [
    "url = 'https://www.vlr.gg/news'\n",
    "base_url = 'https://www.vlr.gg'"
   ]
  },
  {
   "cell_type": "code",
   "execution_count": 3,
   "metadata": {},
   "outputs": [],
   "source": [
    "response = requests.get(url)\n",
    "soup = BeautifulSoup(response.text, 'html.parser')"
   ]
  },
  {
   "cell_type": "code",
   "execution_count": 4,
   "metadata": {},
   "outputs": [],
   "source": [
    "def clean_paragraph_text(paragraph):\n",
    "    return ' '.join(paragraph.stripped_strings)\n",
    "\n",
    "all_articles =\"\""
   ]
  },
  {
   "cell_type": "code",
   "execution_count": 5,
   "metadata": {},
   "outputs": [
    {
     "name": "stdout",
     "output_type": "stream",
     "text": [
      "Added Article \n",
      "\t\t\tT1 signs Sylvan, Indigo, and CheongGak\t\t\n",
      "Added Article \n",
      "\t\t\tBOOM Esports part ways with ZesBeeW and Meow\t\t\n",
      "Added Article \n",
      "\t\t\tCloud9 signs Rossy and v1c\t\t\n",
      "Added Article \n",
      "\t\t\t100 Thieves pick up zander\t\t\n",
      "Added Article \n",
      "\t\t\tFlex1n splits with Bilbili Gaming\t\t\n",
      "Added Article \n",
      "\t\t\tTalon Esports announces departures of Patiphan and b0i\t\t\n",
      "Added Article \n",
      "\t\t\tCloud9 announces departures of runi and Vanity\t\t\n",
      "Added Article \n",
      "\t\t\trunneR, Gorilla, temoc, Placido part with Team Vitality\t\t\n",
      "Added Article \n",
      "\t\t\tSentinels announce N4RRATE and bang\t\t\n",
      "Added Article \n",
      "\t\t\tjawgemo signs with G2 Esports\t\t\n",
      "Added Article \n",
      "\t\t\tDetonatioN FocusMe releases Medusa, Anthem, neth, Astell\t\t\n",
      "Added Article \n",
      "\t\t\tDRX part with BuZz, Foxy9, and BeYN\t\t\n",
      "Added Article \n",
      "\t\t\tGen.G announce free agency of Munchkin, Lakia, and Meteor\t\t\n",
      "Added Article \n",
      "\t\t\tjawgemo and Evil Geniuses part ways\t\t\n",
      "Added Article \n",
      "\t\t\tsScary and LEGIJA announce free agency\t\t\n",
      "Added Article \n",
      "\t\t\tRiot removes BLEED from VCT Pacific, BOOM promoted\t\t\n",
      "Added Article \n",
      "\t\t\t100 Thieves release bang\t\t\n",
      "Added Article \n",
      "\t\t\tShadoW becomes restricted free agent\t\t\n",
      "Added Article \n",
      "\t\t\tMEDUSA and Anthem to explore options outside of DFM\t\t\n",
      "Added Article \n",
      "\t\t\tCloud9 qualifies to Red Bull Home Ground Main Event\t\t\n",
      "Added Article \n",
      "\t\t\tUndefeated Sin Prisa Gaming wins Ascension Pacific\t\t\n",
      "Added Article \n",
      "\t\t\tZellsis: \"We both know that he ain't gonna be yelling s--t\"\t\t\n",
      "Added Article \n",
      "\t\t\tFURIA allows nzr to explore options\t\t\n",
      "Added Article \n",
      "\t\t\tG2 Esports release icy\t\t\n",
      "Added Article \n",
      "\t\t\tM80 parts ways with entire Valorant roster\t\t\n",
      "Added Article \n",
      "\t\t\tBBL allows pAura to explore options\t\t\n",
      "Added Article \n",
      "\t\t\tKr1stal departs Xi Lai Gaming\t\t\n",
      "Added Article \n",
      "\t\t\t2Game Esports lift Americas Ascension trophy\t\t\n",
      "Added Article \n",
      "\t\t\tXi Lai Gaming lifts Ascension China\t\t\n",
      "Added Article \n",
      "\t\t\tFNATIC adds Milan as assistant coach\t\t\n"
     ]
    }
   ],
   "source": [
    "links = (soup.find('div',id='wrapper')).find_all('a',class_='wf-module-item')\n",
    "\n",
    "for link in links:\n",
    "    new_url = base_url + link['href']\n",
    "    response = requests.get(new_url)\n",
    "    soup = BeautifulSoup(response.text, 'html.parser')\n",
    "    try:\n",
    "        title = (soup.find('h1',class_='wf-title')).get_text()\n",
    "        article_body = soup.find('div',class_='article-body')\n",
    "        paragraphs = article_body.find_all('p')\n",
    "\n",
    "        cleaned_text = [clean_paragraph_text(p) for p in paragraphs]\n",
    "        cleaned_text = ''.join(cleaned_text)\n",
    "        all_articles+=f\"\\n{cleaned_text}\"\n",
    "        print(f\"Added Article {title}\")\n",
    "    except Exception as e:\n",
    "        print(f\"An error occurred: {e}\")\n",
    "    time.sleep(1)"
   ]
  },
  {
   "cell_type": "code",
   "execution_count": 8,
   "metadata": {},
   "outputs": [],
   "source": [
    "import requests\n",
    "from bs4 import BeautifulSoup\n"
   ]
  },
  {
   "cell_type": "code",
   "execution_count": 19,
   "metadata": {},
   "outputs": [],
   "source": [
    "url = 'https://en.wikipedia.org/w/rest.php/v1/search/page'\n",
    "headers = {\n",
    "    'User-Agent': 'MediaWiki REST API docs examples/0.1 (https://www.mediawiki.org/wiki/API_talk:REST_API)'\n",
    "}\n",
    "params = {\n",
    "    'q': 'Valorant Champions Tour',\n",
    "    'limit': '20'\n",
    "}"
   ]
  },
  {
   "cell_type": "code",
   "execution_count": 20,
   "metadata": {},
   "outputs": [],
   "source": [
    "response = requests.get(url, headers=headers, params=params)"
   ]
  },
  {
   "cell_type": "code",
   "execution_count": 21,
   "metadata": {},
   "outputs": [
    {
     "name": "stdout",
     "output_type": "stream",
     "text": [
      "{\"pages\":[{\"id\":67574100,\"key\":\"Valorant_Champions_Tour\",\"title\":\"Valorant Champions Tour\",\"excerpt\":\"The <span class=\\\"searchmatch\\\">Valorant</span> <span class=\\\"searchmatch\\\">Champions</span> <span class=\\\"searchmatch\\\">Tour</span> (VCT) is a global competitive esports tournament series for the video game <span class=\\\"searchmatch\\\">Valorant</span> organised by Riot Games, the game's developers\",\"matched_title\":null,\"description\":\"Professional esports league\",\"thumbnail\":{\"mimetype\":\"image/png\",\"width\":60,\"height\":47,\"duration\":null,\"url\":\"//upload.wikimedia.org/wikipedia/commons/thumb/f/fb/Valorant_Champions_Tour_logo.png/60px-Valorant_Champions_Tour_logo.png\"}},{\"id\":74392494,\"key\":\"2023_Valorant_Champions\",\"title\":\"2023 Valorant Champions\",\"excerpt\":\"The 2023 <span class=\\\"searchmatch\\\">Valorant</span> <span class=\\\"searchmatch\\\">Champions</span> was an esports tournament for the video game <span class=\\\"searchmatch\\\">Valorant</span>. This was the third edition of the <span class=\\\"searchmatch\\\">Valorant</span> <span class=\\\"searchmatch\\\">Champions</span>, the crowning event\",\"matched_title\":null,\"description\":\"Gaming tournament\",\"thumbnail\":{\"mimetype\":\"image/png\",\"width\":60,\"height\":44,\"duration\":null,\"url\":\"//upload.wikimedia.org/wikipedia/en/thumb/f/f1/VCT_Valorant_Champions_Tour_Logo_2023.png/60px-VCT_Valorant_Champions_Tour_Logo_2023.png\"}},{\"id\":76403768,\"key\":\"2024_Valorant_Champions_Tour:_Madrid_Masters\",\"title\":\"2024 Valorant Champions Tour: Madrid Masters\",\"excerpt\":\"The 2024 <span class=\\\"searchmatch\\\">Valorant</span> <span class=\\\"searchmatch\\\">Champions</span> <span class=\\\"searchmatch\\\">Tour</span>: Madrid Masters, also known as <span class=\\\"searchmatch\\\">Valorant</span> Masters Madrid 2024, was a global tournament organized by Riot Games for the\",\"matched_title\":null,\"description\":\"Esports tournament in Madrid, Spain\",\"thumbnail\":null},{\"id\":76603610,\"key\":\"2024_Valorant_Champions_Tour:_Shanghai_Masters\",\"title\":\"2024 Valorant Champions Tour: Shanghai Masters\",\"excerpt\":\"The 2024 <span class=\\\"searchmatch\\\">Valorant</span> <span class=\\\"searchmatch\\\">Champions</span> <span class=\\\"searchmatch\\\">Tour</span>: Shanghai Masters, also known as <span class=\\\"searchmatch\\\">Valorant</span> Masters Shanghai 2024, was a global tournament organized by Riot Games for\",\"matched_title\":null,\"description\":\"Esports competition in China\",\"thumbnail\":{\"mimetype\":\"image/png\",\"width\":60,\"height\":49,\"duration\":null,\"url\":\"//upload.wikimedia.org/wikipedia/commons/thumb/2/20/VCT_Masters_Shanghai_2024.png/60px-VCT_Masters_Shanghai_2024.png\"}},{\"id\":76408315,\"key\":\"2024_Valorant_Champions\",\"title\":\"2024 Valorant Champions\",\"excerpt\":\"game <span class=\\\"searchmatch\\\">Valorant</span>. The tournament ran from August 1–25, 2024. Seoul, along with Incheon, South Korea hosted the crowning event of <span class=\\\"searchmatch\\\">Valorant</span> <span class=\\\"searchmatch\\\">Champions</span> <span class=\\\"searchmatch\\\">Tour's</span> 2024\",\"matched_title\":null,\"description\":\"Gaming tournament\",\"thumbnail\":null},{\"id\":63274690,\"key\":\"Valorant\",\"title\":\"Valorant\",\"excerpt\":\"THE NEW <span class=\\\"searchmatch\\\">VALORANT</span> <span class=\\\"searchmatch\\\">CHAMPIONS</span> <span class=\\\"searchmatch\\\">TOUR</span>&quot;. www.valorantesports.com. February 1, 2023. Retrieved June 27, 2023. &quot;INTRODUCING THE NEW <span class=\\\"searchmatch\\\">VALORANT</span> <span class=\\\"searchmatch\\\">CHAMPIONS</span> <span class=\\\"searchmatch\\\">TOUR</span>&quot;. www\",\"matched_title\":null,\"description\":\"2020 video game by Riot Games\",\"thumbnail\":{\"mimetype\":\"image/svg+xml\",\"width\":60,\"height\":41,\"duration\":null,\"url\":\"//upload.wikimedia.org/wikipedia/commons/thumb/f/fc/Valorant_logo_-_pink_color_version.svg/60px-Valorant_logo_-_pink_color_version.svg.png\"}},{\"id\":69312980,\"key\":\"2021_Valorant_Champions\",\"title\":\"2021 Valorant Champions\",\"excerpt\":\"2021 <span class=\\\"searchmatch\\\">Valorant</span> <span class=\\\"searchmatch\\\">Champions</span> was an esports tournament for the first-person shooter video game <span class=\\\"searchmatch\\\">Valorant</span>. It was the first-ever edition of <span class=\\\"searchmatch\\\">VALORANT</span> <span class=\\\"searchmatch\\\">Champions</span>, the\",\"matched_title\":null,\"description\":\"Esports tournament in Berlin, Germany\",\"thumbnail\":{\"mimetype\":\"image/png\",\"width\":60,\"height\":50,\"duration\":null,\"url\":\"//upload.wikimedia.org/wikipedia/commons/thumb/e/ef/2021_Valorant_Champions_logo.png/60px-2021_Valorant_Champions_logo.png\"}},{\"id\":71100971,\"key\":\"2022_Valorant_Champions\",\"title\":\"2022 Valorant Champions\",\"excerpt\":\"The 2022 <span class=\\\"searchmatch\\\">Valorant</span> <span class=\\\"searchmatch\\\">Champions</span> was an esports tournament for the video game <span class=\\\"searchmatch\\\">Valorant</span>. This was the second edition of the <span class=\\\"searchmatch\\\">Valorant</span> <span class=\\\"searchmatch\\\">Champions</span>, the crowning\",\"matched_title\":null,\"description\":\"Gaming tournament\",\"thumbnail\":{\"mimetype\":\"image/svg+xml\",\"width\":60,\"height\":23,\"duration\":null,\"url\":\"//upload.wikimedia.org/wikipedia/commons/thumb/6/68/2022_Valorant_Champions_logo.svg/60px-2022_Valorant_Champions_logo.svg.png\"}},{\"id\":46659047,\"key\":\"Edward_Gaming\",\"title\":\"Edward Gaming\",\"excerpt\":\"Championship, in 2015 and 2021 respectively. EDG's <span class=\\\"searchmatch\\\">VALORANT</span> team competes in the <span class=\\\"searchmatch\\\">VALORANT</span> <span class=\\\"searchmatch\\\">Champions</span> <span class=\\\"searchmatch\\\">Tour</span> as a partnered franchised team. Since 2022, they\",\"matched_title\":null,\"description\":\"Chinese esports organization\",\"thumbnail\":{\"mimetype\":\"image/png\",\"width\":60,\"height\":60,\"duration\":null,\"url\":\"//upload.wikimedia.org/wikipedia/commons/thumb/3/33/Edward_Gaming_logo.png/60px-Edward_Gaming_logo.png\"}},{\"id\":76407774,\"key\":\"2023_Valorant_Champions_Tour:_Tokyo_Masters\",\"title\":\"2023 Valorant Champions Tour: Tokyo Masters\",\"excerpt\":\"The 2023 <span class=\\\"searchmatch\\\">Valorant</span> <span class=\\\"searchmatch\\\">Champions</span> <span class=\\\"searchmatch\\\">Tour</span>: Tokyo Masters, also known as <span class=\\\"searchmatch\\\">Valorant</span> Masters Tokyo 2023, was an international esports tournament organized by Riot Games\",\"matched_title\":null,\"description\":\"Gaming tournament\",\"thumbnail\":null},{\"id\":71284239,\"key\":\"2022_Valorant_Champions_Tour:_Stage_2_Masters\",\"title\":\"2022 Valorant Champions Tour: Stage 2 Masters\",\"excerpt\":\"The 2022 <span class=\\\"searchmatch\\\">Valorant</span> <span class=\\\"searchmatch\\\">Champions</span> <span class=\\\"searchmatch\\\">Tour</span> (VCT): Stage 2 Masters, also known as the <span class=\\\"searchmatch\\\">Valorant</span> Masters Copenhagen, was an international esports tournament organized\",\"matched_title\":null,\"description\":\"Gaming tournament\",\"thumbnail\":null},{\"id\":71105783,\"key\":\"2022_Valorant_Champions_Tour:_Stage_1_Masters\",\"title\":\"2022 Valorant Champions Tour: Stage 1 Masters\",\"excerpt\":\"The 2022 <span class=\\\"searchmatch\\\">Valorant</span> <span class=\\\"searchmatch\\\">Champions</span> <span class=\\\"searchmatch\\\">Tour</span> (VCT): Stage 1 Masters, also known as the <span class=\\\"searchmatch\\\">Valorant</span> Masters Reykjavík 2022, was an international tournament organized by\",\"matched_title\":null,\"description\":\"Gaming tournament\",\"thumbnail\":{\"mimetype\":\"image/png\",\"width\":60,\"height\":70,\"duration\":null,\"url\":\"//upload.wikimedia.org/wikipedia/commons/thumb/c/c9/2022_VCT_Stage_1_Masters_logo.png/60px-2022_VCT_Stage_1_Masters_logo.png\"}},{\"id\":76177943,\"key\":\"2024_in_esports\",\"title\":\"2024 in esports\",\"excerpt\":\"Shanghai 2024: <span class=\\\"searchmatch\\\">VALORANT</span> scores and schedule&quot;. Dot Esports. Retrieved June 9, 2024. Kang, Joanne (February 17, 2024). &quot;<span class=\\\"searchmatch\\\">Valorant</span> <span class=\\\"searchmatch\\\">Champions</span> 2024 heads to\",\"matched_title\":null,\"description\":\"Overview of the events of 2024 in esports\",\"thumbnail\":null},{\"id\":50863121,\"key\":\"Sentinels_(esports)\",\"title\":\"Sentinels (esports)\",\"excerpt\":\"year for <span class=\\\"searchmatch\\\">Valorant</span> Challengers Stage 1 and 2. Sentinels won the first international event in the <span class=\\\"searchmatch\\\">Valorant</span> competitive scene, <span class=\\\"searchmatch\\\">VALORANT</span> <span class=\\\"searchmatch\\\">Champions</span> <span class=\\\"searchmatch\\\">Tour</span> 2021:\",\"matched_title\":null,\"description\":\"American professional esports organization\",\"thumbnail\":{\"mimetype\":\"image/svg+xml\",\"width\":60,\"height\":60,\"duration\":null,\"url\":\"//upload.wikimedia.org/wikipedia/commons/thumb/2/2e/Sentinels_logo.svg/60px-Sentinels_logo.svg.png\"}},{\"id\":76712047,\"key\":\"2021_Valorant_Champions_Tour:_Stage_3_Masters\",\"title\":\"2021 Valorant Champions Tour: Stage 3 Masters\",\"excerpt\":\"The 2021 <span class=\\\"searchmatch\\\">Valorant</span> <span class=\\\"searchmatch\\\">Champions</span> <span class=\\\"searchmatch\\\">Tour</span>: Stage 3 Masters, also known as <span class=\\\"searchmatch\\\">Valorant</span> Masters Berlin 2021, was a global tournament organized by Riot Games for the\",\"matched_title\":null,\"description\":\"Esports tournament in Berlin, Germany\",\"thumbnail\":null},{\"id\":75724645,\"key\":\"GiantX\",\"title\":\"GiantX\",\"excerpt\":\"in Spain. The organisation also fields two <span class=\\\"searchmatch\\\">Valorant</span> teams one that competes in the <span class=\\\"searchmatch\\\">Valorant</span> <span class=\\\"searchmatch\\\">Champions</span> <span class=\\\"searchmatch\\\">Tour</span> (VCT) EMEA, and another that competes in VCT\",\"matched_title\":null,\"description\":\"European esports organisation\",\"thumbnail\":{\"mimetype\":\"image/svg+xml\",\"width\":60,\"height\":69,\"duration\":null,\"url\":\"//upload.wikimedia.org/wikipedia/en/thumb/0/0e/GiantX_logo.svg/60px-GiantX_logo.svg.png\"}},{\"id\":73147642,\"key\":\"Shopify_Rebellion\",\"title\":\"Shopify Rebellion\",\"excerpt\":\"division. Shopify Rebellion entered <span class=\\\"searchmatch\\\">Valorant</span> esports in June 2021, signing a roster to compete in the <span class=\\\"searchmatch\\\">Valorant</span> <span class=\\\"searchmatch\\\">Champions</span> <span class=\\\"searchmatch\\\">Tour</span> Game Changers series. The organization\",\"matched_title\":null,\"description\":\"Canadian esports team\",\"thumbnail\":{\"mimetype\":\"image/png\",\"width\":60,\"height\":90,\"duration\":null,\"url\":\"//upload.wikimedia.org/wikipedia/commons/thumb/8/8e/Shopify_Rebellion_logo.png/60px-Shopify_Rebellion_logo.png\"}},{\"id\":846812,\"key\":\"VCT\",\"title\":\"VCT\",\"excerpt\":\"VCT may refer to: <span class=\\\"searchmatch\\\">Valorant</span> <span class=\\\"searchmatch\\\">Champions</span> <span class=\\\"searchmatch\\\">Tour</span>, an esports tournament series for the video game <span class=\\\"searchmatch\\\">Valorant</span> Variable camshaft timing, an automobile variable valve\",\"matched_title\":null,\"description\":\"Topics referred to by the same term\",\"thumbnail\":null},{\"id\":40473966,\"key\":\"List_of_esports_leagues_and_tournaments\",\"title\":\"List of esports leagues and tournaments\",\"excerpt\":\"2019-03-01. &quot;The Future of <span class=\\\"searchmatch\\\">Valorant</span> Esports&quot;. valorantesports.com. Retrieved 2024-02-27. Yadav, Aryan 'BaBa' (4 August 2020). &quot;<span class=\\\"searchmatch\\\">Valorant</span> Agni series boasts a\",\"matched_title\":null,\"description\":null,\"thumbnail\":null},{\"id\":71832938,\"key\":\"Paper_Rex\",\"title\":\"Paper Rex\",\"excerpt\":\"Stage); 1st Place (Playoffs) <span class=\\\"searchmatch\\\">Champions</span> <span class=\\\"searchmatch\\\">Tour</span> Asia-Pacific Stage 2: Challengers Playoffs: 1st Place (Playoffs) <span class=\\\"searchmatch\\\">Valorant</span> <span class=\\\"searchmatch\\\">Champions</span> <span class=\\\"searchmatch\\\">Tour</span> Stage 2: Masters Copenhagen:\",\"matched_title\":null,\"description\":\"Singaporean esports organization\",\"thumbnail\":{\"mimetype\":\"image/svg+xml\",\"width\":60,\"height\":60,\"duration\":null,\"url\":\"//upload.wikimedia.org/wikipedia/commons/thumb/c/ca/Paper_Rex_logo.svg/60px-Paper_Rex_logo.svg.png\"}}]}\n"
     ]
    }
   ],
   "source": [
    "data = response.text\n",
    "print(data)"
   ]
  },
  {
   "cell_type": "code",
   "execution_count": 11,
   "metadata": {},
   "outputs": [
    {
     "name": "stderr",
     "output_type": "stream",
     "text": [
      "o:\\VCT\\.venv\\Lib\\site-packages\\bs4\\builder\\_lxml.py:124: DeprecationWarning: The 'strip_cdata' option of HTMLParser() has never done anything and will eventually be removed.\n",
      "  parser = parser(\n"
     ]
    }
   ],
   "source": [
    "soup = BeautifulSoup(response.text)"
   ]
  },
  {
   "cell_type": "code",
   "execution_count": 13,
   "metadata": {},
   "outputs": [
    {
     "name": "stdout",
     "output_type": "stream",
     "text": [
      "<html>\n",
      " <body>\n",
      "  <p>\n",
      "   {\"parse\":{\"title\":\"VCT\",\"pageid\":32950,\"revid\":448531,\"text\":{\"*\":\"\n",
      "  </p>\n",
      "  <div class='\\\"mw-parser-output\\\"'>\n",
      "   <div class='\\\"redirectMsg\\\"'>\n",
      "    <p>\n",
      "     Redirect to:\n",
      "    </p>\n",
      "    <ul class='\\\"redirectText\\\"'>\n",
      "     <li>\n",
      "      <a champions=\"\" href='\\\"/valorant/VALORANT_Champions_Tour\\\"' title='\\\"VALORANT' tour=\"\">\n",
      "       VALORANT Champions Tour\n",
      "      </a>\n",
      "     </li>\n",
      "    </ul>\n",
      "   </div>\n",
      "   \\n\n",
      "   <!-- \\nNewPP limit report\\nCached time: 20241009132904\\nCache expiry: 86400\\nReduced expiry: false\\nComplications: []\\nCPU time usage: 0.001 seconds\\nReal time usage: 0.001 seconds\\nPreprocessor visited node count: 0/1500000\\nPost\\u2010expand include size: 0/4194304 bytes\\nTemplate argument size: 0/4194304 bytes\\nHighest expansion depth: 0/100\\nExpensive parser function count: 0/100\\nUnstrip recursion depth: 0/20\\nUnstrip post\\u2010expand size: 0/5000000 bytes\\nMemory usage: 4 MB\\n-->\n",
      "   \\n\n",
      "   <!--\\nTransclusion expansion time report (%,ms,calls,template)\\n100.00%    0.000      1 -total\\n-->\n",
      "   \\n\\n\n",
      "   <!-- Saved in parser cache with key liquipedia-wikivalorant_:pcache:idhash:32950-0!canonical and timestamp 20241009132904 and revision id 448531.\\n -->\n",
      "   \\n\n",
      "  </div>\n",
      "  \"},\"langlinks\":[],\"categories\":[],\"links\":[{\"ns\":0,\"exists\":\"\",\"*\":\"VALORANT Champions Tour\"}],\"templates\":[],\"images\":[],\"externallinks\":[],\"sections\":[],\"parsewarnings\":[],\"displaytitle\":\"\n",
      "  <span class='\\\"mw-page-title-main\\\"'>\n",
      "   VCT\n",
      "  </span>\n",
      "  \",\"iwlinks\":[],\"properties\":[]}}\n",
      " </body>\n",
      "</html>\n",
      "\n"
     ]
    }
   ],
   "source": [
    "print(soup.prettify())"
   ]
  },
  {
   "cell_type": "code",
   "execution_count": null,
   "metadata": {},
   "outputs": [
    {
     "ename": "",
     "evalue": "",
     "output_type": "error",
     "traceback": [
      "\u001b[1;31mRunning cells with 'Python 3.12.7' requires the ipykernel package.\n",
      "\u001b[1;31mRun the following command to install 'ipykernel' into the Python environment. \n",
      "\u001b[1;31mCommand: 'c:/Users/Hamza/AppData/Local/Microsoft/WindowsApps/python3.12.exe -m pip install ipykernel -U --user --force-reinstall'"
     ]
    }
   ],
   "source": []
  }
 ],
 "metadata": {
  "kernelspec": {
   "display_name": "Python 3",
   "language": "python",
   "name": "python3"
  },
  "language_info": {
   "codemirror_mode": {
    "name": "ipython",
    "version": 3
   },
   "file_extension": ".py",
   "mimetype": "text/x-python",
   "name": "python",
   "nbconvert_exporter": "python",
   "pygments_lexer": "ipython3",
   "version": "3.12.undefined"
  }
 },
 "nbformat": 4,
 "nbformat_minor": 2
}
